{
 "cells": [
  {
   "cell_type": "markdown",
   "id": "f0cb80b0",
   "metadata": {},
   "source": [
    "# How much time have I spent watching Lucyfer series?"
   ]
  },
  {
   "cell_type": "code",
   "execution_count": 5,
   "id": "deccc76d",
   "metadata": {},
   "outputs": [],
   "source": [
    "import pandas as pd"
   ]
  },
  {
   "cell_type": "code",
   "execution_count": 6,
   "id": "9c05836e",
   "metadata": {},
   "outputs": [],
   "source": [
    "df = pd.read_csv('Activity.csv')"
   ]
  },
  {
   "cell_type": "code",
   "execution_count": 7,
   "id": "ae122a75",
   "metadata": {},
   "outputs": [
    {
     "data": {
      "text/html": [
       "<div>\n",
       "<style scoped>\n",
       "    .dataframe tbody tr th:only-of-type {\n",
       "        vertical-align: middle;\n",
       "    }\n",
       "\n",
       "    .dataframe tbody tr th {\n",
       "        vertical-align: top;\n",
       "    }\n",
       "\n",
       "    .dataframe thead th {\n",
       "        text-align: right;\n",
       "    }\n",
       "</style>\n",
       "<table border=\"1\" class=\"dataframe\">\n",
       "  <thead>\n",
       "    <tr style=\"text-align: right;\">\n",
       "      <th></th>\n",
       "      <th>Profile Name</th>\n",
       "      <th>Start Time</th>\n",
       "      <th>Duration</th>\n",
       "      <th>Attributes</th>\n",
       "      <th>Title</th>\n",
       "      <th>Supplemental Video Type</th>\n",
       "      <th>Device Type</th>\n",
       "      <th>Bookmark</th>\n",
       "      <th>Latest Bookmark</th>\n",
       "      <th>Country</th>\n",
       "    </tr>\n",
       "  </thead>\n",
       "  <tbody>\n",
       "    <tr>\n",
       "      <th>0</th>\n",
       "      <td>Brzustewicz</td>\n",
       "      <td>2021-09-19 18:00:09</td>\n",
       "      <td>00:00:05</td>\n",
       "      <td>Autoplayed: user action: None;</td>\n",
       "      <td>Imprezowa dusza (Klip): Imprezowa dusza</td>\n",
       "      <td>HOOK</td>\n",
       "      <td>Sony PS4</td>\n",
       "      <td>00:00:05</td>\n",
       "      <td>00:00:05</td>\n",
       "      <td>PL (Poland)</td>\n",
       "    </tr>\n",
       "    <tr>\n",
       "      <th>1</th>\n",
       "      <td>Brzustewicz</td>\n",
       "      <td>2021-09-19 17:59:51</td>\n",
       "      <td>00:00:04</td>\n",
       "      <td>Autoplayed: user action: None;</td>\n",
       "      <td>Nawet góry poruszę (zwiastun)</td>\n",
       "      <td>TRAILER</td>\n",
       "      <td>Sony PS4</td>\n",
       "      <td>00:00:04</td>\n",
       "      <td>00:00:04</td>\n",
       "      <td>PL (Poland)</td>\n",
       "    </tr>\n",
       "    <tr>\n",
       "      <th>2</th>\n",
       "      <td>Brzustewicz</td>\n",
       "      <td>2021-09-19 16:09:46</td>\n",
       "      <td>01:41:44</td>\n",
       "      <td>NaN</td>\n",
       "      <td>Imprezowa dusza</td>\n",
       "      <td>NaN</td>\n",
       "      <td>Xiaomi aquaman Streaming Stick</td>\n",
       "      <td>01:43:05</td>\n",
       "      <td>01:43:05</td>\n",
       "      <td>PL (Poland)</td>\n",
       "    </tr>\n",
       "    <tr>\n",
       "      <th>3</th>\n",
       "      <td>Brzustewicz</td>\n",
       "      <td>2021-09-19 16:09:26</td>\n",
       "      <td>00:00:14</td>\n",
       "      <td>Autoplayed: user action: None;</td>\n",
       "      <td>Imprezowa dusza (Klip): Imprezowa dusza</td>\n",
       "      <td>HOOK</td>\n",
       "      <td>Xiaomi aquaman Streaming Stick</td>\n",
       "      <td>00:00:14</td>\n",
       "      <td>Not latest view</td>\n",
       "      <td>PL (Poland)</td>\n",
       "    </tr>\n",
       "    <tr>\n",
       "      <th>4</th>\n",
       "      <td>Brzustewicz</td>\n",
       "      <td>2021-09-19 16:09:00</td>\n",
       "      <td>00:00:08</td>\n",
       "      <td>Autoplayed: user action: None;</td>\n",
       "      <td>MINDHUNTER: Sezon 2 (zwiastun)</td>\n",
       "      <td>TRAILER</td>\n",
       "      <td>Xiaomi aquaman Streaming Stick</td>\n",
       "      <td>00:00:08</td>\n",
       "      <td>00:00:08</td>\n",
       "      <td>PL (Poland)</td>\n",
       "    </tr>\n",
       "  </tbody>\n",
       "</table>\n",
       "</div>"
      ],
      "text/plain": [
       "  Profile Name           Start Time  Duration  \\\n",
       "0  Brzustewicz  2021-09-19 18:00:09  00:00:05   \n",
       "1  Brzustewicz  2021-09-19 17:59:51  00:00:04   \n",
       "2  Brzustewicz  2021-09-19 16:09:46  01:41:44   \n",
       "3  Brzustewicz  2021-09-19 16:09:26  00:00:14   \n",
       "4  Brzustewicz  2021-09-19 16:09:00  00:00:08   \n",
       "\n",
       "                        Attributes                                    Title  \\\n",
       "0  Autoplayed: user action: None;   Imprezowa dusza (Klip): Imprezowa dusza   \n",
       "1  Autoplayed: user action: None;             Nawet góry poruszę (zwiastun)   \n",
       "2                              NaN                          Imprezowa dusza   \n",
       "3  Autoplayed: user action: None;   Imprezowa dusza (Klip): Imprezowa dusza   \n",
       "4  Autoplayed: user action: None;            MINDHUNTER: Sezon 2 (zwiastun)   \n",
       "\n",
       "  Supplemental Video Type                     Device Type  Bookmark  \\\n",
       "0                    HOOK                        Sony PS4  00:00:05   \n",
       "1                 TRAILER                        Sony PS4  00:00:04   \n",
       "2                     NaN  Xiaomi aquaman Streaming Stick  01:43:05   \n",
       "3                    HOOK  Xiaomi aquaman Streaming Stick  00:00:14   \n",
       "4                 TRAILER  Xiaomi aquaman Streaming Stick  00:00:08   \n",
       "\n",
       "   Latest Bookmark      Country  \n",
       "0         00:00:05  PL (Poland)  \n",
       "1         00:00:04  PL (Poland)  \n",
       "2         01:43:05  PL (Poland)  \n",
       "3  Not latest view  PL (Poland)  \n",
       "4         00:00:08  PL (Poland)  "
      ]
     },
     "execution_count": 7,
     "metadata": {},
     "output_type": "execute_result"
    }
   ],
   "source": [
    "df.head()"
   ]
  },
  {
   "cell_type": "code",
   "execution_count": 8,
   "id": "eabd3ffe",
   "metadata": {},
   "outputs": [],
   "source": [
    "# drop columns I am not goint to use\n",
    "df = df.drop(['Profile Name', 'Attributes', 'Supplemental Video Type', 'Device Type','Bookmark', 'Latest Bookmark','Country'],axis=1)"
   ]
  },
  {
   "cell_type": "code",
   "execution_count": 9,
   "id": "f2a1291a",
   "metadata": {},
   "outputs": [
    {
     "data": {
      "text/html": [
       "<div>\n",
       "<style scoped>\n",
       "    .dataframe tbody tr th:only-of-type {\n",
       "        vertical-align: middle;\n",
       "    }\n",
       "\n",
       "    .dataframe tbody tr th {\n",
       "        vertical-align: top;\n",
       "    }\n",
       "\n",
       "    .dataframe thead th {\n",
       "        text-align: right;\n",
       "    }\n",
       "</style>\n",
       "<table border=\"1\" class=\"dataframe\">\n",
       "  <thead>\n",
       "    <tr style=\"text-align: right;\">\n",
       "      <th></th>\n",
       "      <th>Start Time</th>\n",
       "      <th>Duration</th>\n",
       "      <th>Title</th>\n",
       "    </tr>\n",
       "  </thead>\n",
       "  <tbody>\n",
       "    <tr>\n",
       "      <th>0</th>\n",
       "      <td>2021-09-19 18:00:09</td>\n",
       "      <td>00:00:05</td>\n",
       "      <td>Imprezowa dusza (Klip): Imprezowa dusza</td>\n",
       "    </tr>\n",
       "    <tr>\n",
       "      <th>1</th>\n",
       "      <td>2021-09-19 17:59:51</td>\n",
       "      <td>00:00:04</td>\n",
       "      <td>Nawet góry poruszę (zwiastun)</td>\n",
       "    </tr>\n",
       "    <tr>\n",
       "      <th>2</th>\n",
       "      <td>2021-09-19 16:09:46</td>\n",
       "      <td>01:41:44</td>\n",
       "      <td>Imprezowa dusza</td>\n",
       "    </tr>\n",
       "    <tr>\n",
       "      <th>3</th>\n",
       "      <td>2021-09-19 16:09:26</td>\n",
       "      <td>00:00:14</td>\n",
       "      <td>Imprezowa dusza (Klip): Imprezowa dusza</td>\n",
       "    </tr>\n",
       "    <tr>\n",
       "      <th>4</th>\n",
       "      <td>2021-09-19 16:09:00</td>\n",
       "      <td>00:00:08</td>\n",
       "      <td>MINDHUNTER: Sezon 2 (zwiastun)</td>\n",
       "    </tr>\n",
       "  </tbody>\n",
       "</table>\n",
       "</div>"
      ],
      "text/plain": [
       "            Start Time  Duration                                    Title\n",
       "0  2021-09-19 18:00:09  00:00:05  Imprezowa dusza (Klip): Imprezowa dusza\n",
       "1  2021-09-19 17:59:51  00:00:04            Nawet góry poruszę (zwiastun)\n",
       "2  2021-09-19 16:09:46  01:41:44                          Imprezowa dusza\n",
       "3  2021-09-19 16:09:26  00:00:14  Imprezowa dusza (Klip): Imprezowa dusza\n",
       "4  2021-09-19 16:09:00  00:00:08           MINDHUNTER: Sezon 2 (zwiastun)"
      ]
     },
     "execution_count": 9,
     "metadata": {},
     "output_type": "execute_result"
    }
   ],
   "source": [
    "df.head()"
   ]
  },
  {
   "cell_type": "code",
   "execution_count": 10,
   "id": "01ead6bd",
   "metadata": {},
   "outputs": [],
   "source": [
    "# change \"Start Time\" and \"Duration\" columns into the correct datatypes.\n",
    "df['Start Time'] = pd.to_datetime(df['Start Time'], utc=True)"
   ]
  },
  {
   "cell_type": "code",
   "execution_count": 11,
   "id": "f83a823e",
   "metadata": {
    "scrolled": true
   },
   "outputs": [
    {
     "data": {
      "text/plain": [
       "Start Time    datetime64[ns, UTC]\n",
       "Duration                   object\n",
       "Title                      object\n",
       "dtype: object"
      ]
     },
     "execution_count": 11,
     "metadata": {},
     "output_type": "execute_result"
    }
   ],
   "source": [
    "df.dtypes"
   ]
  },
  {
   "cell_type": "code",
   "execution_count": 12,
   "id": "1c400690",
   "metadata": {},
   "outputs": [
    {
     "data": {
      "text/html": [
       "<div>\n",
       "<style scoped>\n",
       "    .dataframe tbody tr th:only-of-type {\n",
       "        vertical-align: middle;\n",
       "    }\n",
       "\n",
       "    .dataframe tbody tr th {\n",
       "        vertical-align: top;\n",
       "    }\n",
       "\n",
       "    .dataframe thead th {\n",
       "        text-align: right;\n",
       "    }\n",
       "</style>\n",
       "<table border=\"1\" class=\"dataframe\">\n",
       "  <thead>\n",
       "    <tr style=\"text-align: right;\">\n",
       "      <th></th>\n",
       "      <th>Start Time</th>\n",
       "      <th>Duration</th>\n",
       "      <th>Title</th>\n",
       "    </tr>\n",
       "  </thead>\n",
       "  <tbody>\n",
       "    <tr>\n",
       "      <th>0</th>\n",
       "      <td>2021-09-19 20:00:09+02:00</td>\n",
       "      <td>00:00:05</td>\n",
       "      <td>Imprezowa dusza (Klip): Imprezowa dusza</td>\n",
       "    </tr>\n",
       "    <tr>\n",
       "      <th>1</th>\n",
       "      <td>2021-09-19 19:59:51+02:00</td>\n",
       "      <td>00:00:04</td>\n",
       "      <td>Nawet góry poruszę (zwiastun)</td>\n",
       "    </tr>\n",
       "    <tr>\n",
       "      <th>2</th>\n",
       "      <td>2021-09-19 18:09:46+02:00</td>\n",
       "      <td>01:41:44</td>\n",
       "      <td>Imprezowa dusza</td>\n",
       "    </tr>\n",
       "    <tr>\n",
       "      <th>3</th>\n",
       "      <td>2021-09-19 18:09:26+02:00</td>\n",
       "      <td>00:00:14</td>\n",
       "      <td>Imprezowa dusza (Klip): Imprezowa dusza</td>\n",
       "    </tr>\n",
       "    <tr>\n",
       "      <th>4</th>\n",
       "      <td>2021-09-19 18:09:00+02:00</td>\n",
       "      <td>00:00:08</td>\n",
       "      <td>MINDHUNTER: Sezon 2 (zwiastun)</td>\n",
       "    </tr>\n",
       "  </tbody>\n",
       "</table>\n",
       "</div>"
      ],
      "text/plain": [
       "                 Start Time  Duration                                    Title\n",
       "0 2021-09-19 20:00:09+02:00  00:00:05  Imprezowa dusza (Klip): Imprezowa dusza\n",
       "1 2021-09-19 19:59:51+02:00  00:00:04            Nawet góry poruszę (zwiastun)\n",
       "2 2021-09-19 18:09:46+02:00  01:41:44                          Imprezowa dusza\n",
       "3 2021-09-19 18:09:26+02:00  00:00:14  Imprezowa dusza (Klip): Imprezowa dusza\n",
       "4 2021-09-19 18:09:00+02:00  00:00:08           MINDHUNTER: Sezon 2 (zwiastun)"
      ]
     },
     "execution_count": 12,
     "metadata": {},
     "output_type": "execute_result"
    }
   ],
   "source": [
    "# change the \"Start Time\" column into the dataframe's index\n",
    "df = df.set_index(\"Start Time\")\n",
    "\n",
    "\n",
    "# convert from UTC timezone to Europe/Poland\n",
    "df.index = df.index.tz_convert('Poland')\n",
    "\n",
    "\n",
    "# reset the index so that \"Start Time\" becomes a column again\n",
    "df = df.reset_index()\n",
    "\n",
    "df.head()"
   ]
  },
  {
   "cell_type": "code",
   "execution_count": 29,
   "id": "142fad11",
   "metadata": {},
   "outputs": [],
   "source": [
    "# convert the \"Duration\" column to a timedelta\n",
    "df['Duration'] = pd.to_timedelta(df['Duration'])"
   ]
  },
  {
   "cell_type": "code",
   "execution_count": 30,
   "id": "98ef223d",
   "metadata": {},
   "outputs": [
    {
     "data": {
      "text/html": [
       "<div>\n",
       "<style scoped>\n",
       "    .dataframe tbody tr th:only-of-type {\n",
       "        vertical-align: middle;\n",
       "    }\n",
       "\n",
       "    .dataframe tbody tr th {\n",
       "        vertical-align: top;\n",
       "    }\n",
       "\n",
       "    .dataframe thead th {\n",
       "        text-align: right;\n",
       "    }\n",
       "</style>\n",
       "<table border=\"1\" class=\"dataframe\">\n",
       "  <thead>\n",
       "    <tr style=\"text-align: right;\">\n",
       "      <th></th>\n",
       "      <th>Start Time</th>\n",
       "      <th>Duration</th>\n",
       "      <th>Title</th>\n",
       "    </tr>\n",
       "  </thead>\n",
       "  <tbody>\n",
       "    <tr>\n",
       "      <th>0</th>\n",
       "      <td>2021-09-19 20:00:09+02:00</td>\n",
       "      <td>0 days 00:00:05</td>\n",
       "      <td>Imprezowa dusza (Klip): Imprezowa dusza</td>\n",
       "    </tr>\n",
       "    <tr>\n",
       "      <th>1</th>\n",
       "      <td>2021-09-19 19:59:51+02:00</td>\n",
       "      <td>0 days 00:00:04</td>\n",
       "      <td>Nawet góry poruszę (zwiastun)</td>\n",
       "    </tr>\n",
       "    <tr>\n",
       "      <th>2</th>\n",
       "      <td>2021-09-19 18:09:46+02:00</td>\n",
       "      <td>0 days 01:41:44</td>\n",
       "      <td>Imprezowa dusza</td>\n",
       "    </tr>\n",
       "    <tr>\n",
       "      <th>3</th>\n",
       "      <td>2021-09-19 18:09:26+02:00</td>\n",
       "      <td>0 days 00:00:14</td>\n",
       "      <td>Imprezowa dusza (Klip): Imprezowa dusza</td>\n",
       "    </tr>\n",
       "    <tr>\n",
       "      <th>4</th>\n",
       "      <td>2021-09-19 18:09:00+02:00</td>\n",
       "      <td>0 days 00:00:08</td>\n",
       "      <td>MINDHUNTER: Sezon 2 (zwiastun)</td>\n",
       "    </tr>\n",
       "  </tbody>\n",
       "</table>\n",
       "</div>"
      ],
      "text/plain": [
       "                 Start Time        Duration  \\\n",
       "0 2021-09-19 20:00:09+02:00 0 days 00:00:05   \n",
       "1 2021-09-19 19:59:51+02:00 0 days 00:00:04   \n",
       "2 2021-09-19 18:09:46+02:00 0 days 01:41:44   \n",
       "3 2021-09-19 18:09:26+02:00 0 days 00:00:14   \n",
       "4 2021-09-19 18:09:00+02:00 0 days 00:00:08   \n",
       "\n",
       "                                     Title  \n",
       "0  Imprezowa dusza (Klip): Imprezowa dusza  \n",
       "1            Nawet góry poruszę (zwiastun)  \n",
       "2                          Imprezowa dusza  \n",
       "3  Imprezowa dusza (Klip): Imprezowa dusza  \n",
       "4           MINDHUNTER: Sezon 2 (zwiastun)  "
      ]
     },
     "execution_count": 30,
     "metadata": {},
     "output_type": "execute_result"
    }
   ],
   "source": [
    "df.head()"
   ]
  },
  {
   "cell_type": "code",
   "execution_count": 31,
   "id": "2490636d",
   "metadata": {},
   "outputs": [],
   "source": [
    "# create a new dataframe called lucyfer to select from a title column by partial string\n",
    "lucyfer = df[df['Title'].str.contains('Lucyfer', regex=False)]"
   ]
  },
  {
   "cell_type": "code",
   "execution_count": 32,
   "id": "fdfdc56d",
   "metadata": {},
   "outputs": [
    {
     "data": {
      "text/plain": [
       "Timedelta('3 days 09:20:23')"
      ]
     },
     "execution_count": 32,
     "metadata": {},
     "output_type": "execute_result"
    }
   ],
   "source": [
    "lucyfer['Duration'].sum()"
   ]
  },
  {
   "cell_type": "markdown",
   "id": "bf1f6a9f",
   "metadata": {},
   "source": [
    "# Total time watching Lucyfer series is 3 days 9 hours and 20 minutes"
   ]
  },
  {
   "cell_type": "code",
   "execution_count": 33,
   "id": "09d8015a",
   "metadata": {},
   "outputs": [
    {
     "name": "stderr",
     "output_type": "stream",
     "text": [
      "<ipython-input-33-984daa603869>:2: SettingWithCopyWarning: \n",
      "A value is trying to be set on a copy of a slice from a DataFrame.\n",
      "Try using .loc[row_indexer,col_indexer] = value instead\n",
      "\n",
      "See the caveats in the documentation: https://pandas.pydata.org/pandas-docs/stable/user_guide/indexing.html#returning-a-view-versus-a-copy\n",
      "  lucyfer['weekday'] = lucyfer['Start Time'].dt.weekday\n",
      "<ipython-input-33-984daa603869>:5: SettingWithCopyWarning: \n",
      "A value is trying to be set on a copy of a slice from a DataFrame.\n",
      "Try using .loc[row_indexer,col_indexer] = value instead\n",
      "\n",
      "See the caveats in the documentation: https://pandas.pydata.org/pandas-docs/stable/user_guide/indexing.html#returning-a-view-versus-a-copy\n",
      "  lucyfer['hour'] = lucyfer['Start Time'].dt.hour\n"
     ]
    },
    {
     "data": {
      "text/html": [
       "<div>\n",
       "<style scoped>\n",
       "    .dataframe tbody tr th:only-of-type {\n",
       "        vertical-align: middle;\n",
       "    }\n",
       "\n",
       "    .dataframe tbody tr th {\n",
       "        vertical-align: top;\n",
       "    }\n",
       "\n",
       "    .dataframe thead th {\n",
       "        text-align: right;\n",
       "    }\n",
       "</style>\n",
       "<table border=\"1\" class=\"dataframe\">\n",
       "  <thead>\n",
       "    <tr style=\"text-align: right;\">\n",
       "      <th></th>\n",
       "      <th>Start Time</th>\n",
       "      <th>Duration</th>\n",
       "      <th>Title</th>\n",
       "      <th>weekday</th>\n",
       "      <th>hour</th>\n",
       "    </tr>\n",
       "  </thead>\n",
       "  <tbody>\n",
       "    <tr>\n",
       "      <th>82</th>\n",
       "      <td>2021-09-16 16:32:52+02:00</td>\n",
       "      <td>0 days 00:45:58</td>\n",
       "      <td>Lucyfer: Sezon 6: Partnerzy aż do końca (Odcin...</td>\n",
       "      <td>3</td>\n",
       "      <td>16</td>\n",
       "    </tr>\n",
       "  </tbody>\n",
       "</table>\n",
       "</div>"
      ],
      "text/plain": [
       "                  Start Time        Duration  \\\n",
       "82 2021-09-16 16:32:52+02:00 0 days 00:45:58   \n",
       "\n",
       "                                                Title  weekday  hour  \n",
       "82  Lucyfer: Sezon 6: Partnerzy aż do końca (Odcin...        3    16  "
      ]
     },
     "execution_count": 33,
     "metadata": {},
     "output_type": "execute_result"
    }
   ],
   "source": [
    "# create new column called 'Weekday' to check on which days of the week have I watched the most Lucyfer series\n",
    "lucyfer['weekday'] = lucyfer['Start Time'].dt.weekday\n",
    "\n",
    "# create new column called 'Hour' to check during which hours of the day do I most often start Lucyfer series\n",
    "lucyfer['hour'] = lucyfer['Start Time'].dt.hour\n",
    "\n",
    "lucyfer.head(1)"
   ]
  },
  {
   "cell_type": "code",
   "execution_count": 18,
   "id": "8ee74a67",
   "metadata": {},
   "outputs": [],
   "source": [
    "%matplotlib inline"
   ]
  },
  {
   "cell_type": "code",
   "execution_count": 19,
   "id": "83187cc9",
   "metadata": {},
   "outputs": [],
   "source": [
    "import matplotlib "
   ]
  },
  {
   "cell_type": "code",
   "execution_count": 43,
   "id": "274c2d05",
   "metadata": {},
   "outputs": [
    {
     "name": "stderr",
     "output_type": "stream",
     "text": [
      "<ipython-input-43-e8d00f0549e8>:1: SettingWithCopyWarning: \n",
      "A value is trying to be set on a copy of a slice from a DataFrame.\n",
      "Try using .loc[row_indexer,col_indexer] = value instead\n",
      "\n",
      "See the caveats in the documentation: https://pandas.pydata.org/pandas-docs/stable/user_guide/indexing.html#returning-a-view-versus-a-copy\n",
      "  lucyfer['weekday'] = pd.Categorical(lucyfer['weekday'], categories= [0, 1, 2, 3, 4, 5, 6], ordered=True)\n"
     ]
    },
    {
     "data": {
      "text/plain": [
       "<AxesSubplot:title={'center':'Lucyfer series watched by day'}>"
      ]
     },
     "execution_count": 43,
     "metadata": {},
     "output_type": "execute_result"
    },
    {
     "data": {
      "image/png": "[encoded data removed]",
      "text/plain": [
       "<Figure size 1440x720 with 1 Axes>"
      ]
     },
     "metadata": {
      "needs_background": "light"
     },
     "output_type": "display_data"
    }
   ],
   "source": [
    "# set categories and define the order where 0 is Monday, Thursday is 1 etc\n",
    "lucyfer['weekday'] = pd.Categorical(lucyfer['weekday'], categories= [0, 1, 2, 3, 4, 5, 6], ordered=True)\n",
    "\n",
    "# create lucyfer_by_day and count how many rows are in each day\n",
    "lucyfer_by_day = lucyfer['weekday'].value_counts()\n",
    "\n",
    "# sort chronologically days\n",
    "lucyfer_by_day = lucyfer_by_day.sort_index()\n",
    "\n",
    "\n",
    "# make font size larger\n",
    "matplotlib.rcParams.update({'font.size':25})\n",
    "\n",
    "# plot lucyfer_by_day\n",
    "lucyfer_by_day.plot(kind='bar',figsize = (20,10), title= 'Lucyfer series watched by day')"
   ]
  },
  {
   "cell_type": "code",
   "execution_count": 50,
   "id": "e6518f9b",
   "metadata": {},
   "outputs": [
    {
     "name": "stderr",
     "output_type": "stream",
     "text": [
      "<ipython-input-50-0b0bb2f1359b>:1: SettingWithCopyWarning: \n",
      "A value is trying to be set on a copy of a slice from a DataFrame.\n",
      "Try using .loc[row_indexer,col_indexer] = value instead\n",
      "\n",
      "See the caveats in the documentation: https://pandas.pydata.org/pandas-docs/stable/user_guide/indexing.html#returning-a-view-versus-a-copy\n",
      "  lucyfer['hour'] = pd.Categorical(lucyfer['hour'],\n"
     ]
    },
    {
     "data": {
      "text/plain": [
       "<AxesSubplot:title={'center':'Lucyfer series watched by hour'}>"
      ]
     },
     "execution_count": 50,
     "metadata": {},
     "output_type": "execute_result"
    },
    {
     "data": {
      "image/png": "[encoded data removed]",
      "text/plain": [
       "<Figure size 1440x720 with 1 Axes>"
      ]
     },
     "metadata": {
      "needs_background": "light"
     },
     "output_type": "display_data"
    }
   ],
   "source": [
    "# set categories 0-23 hours\n",
    "lucyfer['hour'] = pd.Categorical(lucyfer['hour'], \n",
    "                                 categories = [0, 1, 2, 3, 4, 5, 6, 7, 8, 9, 10, 11, 12, 13, 14, 15, 16, 17, 18, 19, 20, 21, 22, 23],\n",
    "                                 ordered=True)\n",
    "\n",
    "# create lucyfer_by_hour and count how many rows are in each hour\n",
    "lucyfer_by_hour = lucyfer['hour'].value_counts()\n",
    "\n",
    "# sort chronologically hours\n",
    "lucyfer_by_hour = lucyfer_by_hour .sort_index()\n",
    "\n",
    "# make font size larger\n",
    "matplotlib.rcParams.update({'font.size' : 25})\n",
    "\n",
    "# lucyfer_by_hour plot\n",
    "lucyfer_by_hour.plot(kind = 'bar', figsize = (20,10), title = 'Lucyfer series watched by hour')"
   ]
  },
  {
   "cell_type": "code",
   "execution_count": null,
   "id": "fcab6df2",
   "metadata": {},
   "outputs": [],
   "source": []
  }
 ],
 "metadata": {
  "kernelspec": {
   "display_name": "Python 3",
   "language": "python",
   "name": "python3"
  },
  "language_info": {
   "codemirror_mode": {
    "name": "ipython",
    "version": 3
   },
   "file_extension": ".py",
   "mimetype": "text/x-python",
   "name": "python",
   "nbconvert_exporter": "python",
   "pygments_lexer": "ipython3",
   "version": "3.8.8"
  }
 },
 "nbformat": 4,
 "nbformat_minor": 5
}
